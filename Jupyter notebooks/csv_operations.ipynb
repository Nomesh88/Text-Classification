{
 "cells": [
  {
   "cell_type": "markdown",
   "metadata": {},
   "source": [
    "# This part focusses on defining the NOUN VERB AND O part and assiging the labels to the words and combining them by their text ids "
   ]
  },
  {
   "cell_type": "code",
   "execution_count": 1,
   "metadata": {},
   "outputs": [
    {
     "name": "stdout",
     "output_type": "stream",
     "text": [
      "ong\n"
     ]
    }
   ],
   "source": [
    "import pandas as pd\n",
    "df=pd.read_csv('C:/Users/nomesh.palakaluri.EMEA/OneDrive - Drilling Info/Documents/nlp_model/Data3.csv')\n",
    "test=df['word'].values.astype(str)  #converts text column to list\n",
    "v=[]\n",
    "n=[]\n",
    "print(test[2][-3:])\n",
    "\n",
    "for i in range(len(test)):\n",
    "    if(test[i][-3:]=='ing' or test[i][-2:]=='ed'):   #since verb ends with 'ing' OR 'ed'. Searching for both conditions\n",
    "        v.append('True')\n",
    "    else:\n",
    "        v.append('False')\n",
    "    if(test[i][-3:]!='ing' or test[i][-2:]!='ed'):  #remaining words\n",
    "        if(len(test[i])>3): \n",
    "            n.append('True')\n",
    "        else:\n",
    "            n.append('False')\n",
    "\n",
    "df['Is_Verb']=v #column is_verb created\n",
    "df['Is_Noun']=n #column is_noun created\n",
    "\n",
    "\n",
    "a=pd.DataFrame(df) #create csv\n",
    "a.to_csv('C:/Users/nomesh.palakaluri.EMEA/OneDrive - Drilling Info/Documents/nlp_model/Data3.csv') #download csv\n",
    "\n",
    "\n",
    "   \n",
    "\n",
    "\n",
    "\n",
    "\n",
    "\n",
    "\n",
    "\n",
    "\n",
    "\n",
    "\n"
   ]
  },
  {
   "cell_type": "code",
   "execution_count": 2,
   "metadata": {},
   "outputs": [],
   "source": [
    "import pandas as pd\n",
    "df1=pd.read_csv('C:/Users/nomesh.palakaluri.EMEA/OneDrive - Drilling Info/Documents/nlp_model/Data3.csv')\n",
    "check1=df1['Is_Verb'].to_list()\n",
    "check2=df1['Is_Noun'].to_list()\n",
    "s=[]\n",
    "for i in range(len(check1)):   \n",
    "    if(check1[i]):\n",
    "        s.append('VERB')\n",
    "    elif(check2[i]):\n",
    "        s.append('NOUN')\n",
    "    else:\n",
    "        s.append('o')\n",
    "        \n",
    "    \n",
    "df1['label']=s\n",
    "a=pd.DataFrame(df1) #create csv\n",
    "a.to_csv('C:/Users/nomesh.palakaluri.EMEA/OneDrive - Drilling Info/Documents/nlp_model/Data3.csv') #download csv   \n",
    "\n",
    "\n"
   ]
  },
  {
   "cell_type": "code",
   "execution_count": 3,
   "metadata": {},
   "outputs": [],
   "source": [
    "import pandas as pd\n",
    "df2=pd.read_csv('C:/Users/nomesh.palakaluri.EMEA/OneDrive - Drilling Info/Documents/nlp_model/Data3.csv')\n",
    "check3=df2['id']\n",
    "\n",
    "df2['actual_la'] = df2.groupby(['id'])['label'].transform(lambda x : ' '.join(x))\n",
    "a=pd.DataFrame(df2) #create csv\n",
    "a.to_csv('C:/Users/nomesh.palakaluri.EMEA/OneDrive - Drilling Info/Documents/nlp_model/Data3.csv') #download csv \n",
    "\n"
   ]
  }
 ],
 "metadata": {
  "interpreter": {
   "hash": "e557c3c29db0e44572dbb069c56a83148cb9f252d7eee73a0af8774e071af3a9"
  },
  "kernelspec": {
   "display_name": "Python 3.10.2 64-bit",
   "language": "python",
   "name": "python3"
  },
  "language_info": {
   "codemirror_mode": {
    "name": "ipython",
    "version": 3
   },
   "file_extension": ".py",
   "mimetype": "text/x-python",
   "name": "python",
   "nbconvert_exporter": "python",
   "pygments_lexer": "ipython3",
   "version": "3.10.2"
  },
  "orig_nbformat": 4
 },
 "nbformat": 4,
 "nbformat_minor": 2
}
