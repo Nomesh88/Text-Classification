{
 "cells": [
  {
   "cell_type": "markdown",
   "metadata": {},
   "source": [
    "# This notebook focusses on the cleaning part which removes special characters and numbers from the sentences with the help of this  method \"##Preprocess_text\"\n"
   ]
  },
  {
   "cell_type": "code",
   "execution_count": null,
   "metadata": {},
   "outputs": [
    {
     "data": {
      "text/plain": [
       "'Hello this is momesj '"
      ]
     },
     "metadata": {},
     "output_type": "display_data"
    }
   ],
   "source": [
    "#data cleaningh\n",
    "import re\n",
    "sen1=\"Hello334448877@ this is momesj?\"\n",
    "def preprocess_text(sen):\n",
    "    # Remove punctuations and numbers\n",
    "    sentence = re.sub('[^a-zA-Z]', ' ', sen)\n",
    "\n",
    "    # Single character removal\n",
    "    sentence = re.sub(r\"\\s+[a-zA-Z]\\s+\", ' ', sentence)\n",
    "\n",
    "    # Removing multiple spaces\n",
    "    sentence = re.sub(r'\\s+', ' ', sentence)\n",
    "\n",
    "    return sentence\n",
    "preprocess_text(sen1)\n"
   ]
  },
  {
   "cell_type": "code",
   "execution_count": 55,
   "metadata": {},
   "outputs": [
    {
     "name": "stdout",
     "output_type": "stream",
     "text": [
      "6\n",
      "            word\n",
      "0          until\n",
      "1         jurong\n",
      "2         point,\n",
      "3          crazy\n",
      "4      Available\n",
      "...          ...\n",
      "47564       gave\n",
      "47565       free\n",
      "47566       Rofl\n",
      "47567       TRUE\n",
      "47568       name\n",
      "\n",
      "[47569 rows x 1 columns]\n"
     ]
    }
   ],
   "source": [
    "import pandas as pd\n",
    "df=pd.read_csv(f'C:/Users/nomesh.palakaluri.EMEA/OneDrive - Drilling Info/Documents/nlp_model/Data2.csv')\n",
    "word=df['word'].values.astype(str)\n",
    "#removing commas at the end of the word\n",
    "#print(word)\n",
    "m=[]\n",
    "print(len(word[3]))\n",
    "for i in range(len(word)):\n",
    "    if(len(word[i])>3):\n",
    "        m.append(word[i])\n",
    "#print(m)\n",
    "# using string.join() method by traversing the string and element is not digit\n",
    "string = ' '.join((element for element in m if not element.isdigit()))\n",
    "m1=[]\n",
    "#print(string.split())\n",
    "#print(string)\n",
    "#define special characters list\n",
    "special_characters = ['!','#','$','%', '&','@','[',']',' ',']','_','(',')','<','>','?',':','-','/','.']\n",
    "for j in special_characters:\n",
    "    sample_string = string.replace(j,'')\n",
    "m1.append(sample_string.split())\n",
    "#print(m1[0])\n",
    "df1=pd.DataFrame()\n",
    "df1['word']=sample_string.split()\n",
    "df1['word'].explode()\n",
    "print(df1)\n",
    "df1=df1.to_csv('C:/Users/nomesh.palakaluri.EMEA/OneDrive - Drilling Info/Documents/nlp_model/Data3.csv')"
   ]
  },
  {
   "cell_type": "code",
   "execution_count": null,
   "metadata": {},
   "outputs": [],
   "source": [
    "import pandas as pd\n",
    "import re\n",
    "df=pd.read_csv(f'C:/Users/nomesh.palakaluri.EMEA/OneDrive - Drilling Info/Documents/nlp_model/Data3.csv')\n",
    "digitspattern = r'[0-9]'\n",
    "m2=[]\n",
    "for i in range(len(df['word'])):\n",
    "    m2.append(re.sub(digitspattern, '', df['word'][i]))\n",
    "#print(m2)\n",
    "# using regex expression\n",
    "m3=[]\n",
    "for g in range(len(m2)):\n",
    "    m3.append(re.sub('[^A-Za-z]+', '', m2[g]))\n",
    "print(m3)\n",
    "df1=pd.DataFrame()\n",
    "df1['word']=m3\n",
    "df1['word'].explode()\n",
    "#print(df1)\n",
    "df1=df1.to_csv('C:/Users/nomesh.palakaluri.EMEA/OneDrive - Drilling Info/Documents/nlp_model/Data3.csv')"
   ]
  },
  {
   "cell_type": "code",
   "execution_count": 75,
   "metadata": {},
   "outputs": [
    {
     "data": {
      "text/plain": [
       "47565"
      ]
     },
     "execution_count": 75,
     "metadata": {},
     "output_type": "execute_result"
    }
   ],
   "source": [
    "#drop na values\n",
    "import pandas as pd\n",
    "df=pd.read_csv('C:/Users/nomesh.palakaluri.EMEA/OneDrive - Drilling Info/Documents/nlp_model/Data3.csv')\n",
    "#df[df.word!=' ']\n",
    "len(df['word'].notnull())\n",
    "# df1=pd.DataFrame(df)\n",
    "# df1['word']=df['word'].dropna()\n",
    "# df1['word'].explode()\n",
    "# print(df1)\n",
    "# df1=df1.to_csv('C:/Users/nomesh.palakaluri.EMEA/OneDrive - Drilling Info/Documents/nlp_model/Data3.csv')"
   ]
  },
  {
   "cell_type": "code",
   "execution_count": 2,
   "metadata": {},
   "outputs": [
    {
     "name": "stdout",
     "output_type": "stream",
     "text": [
      "Go until jurong point crazy Available only in bugis n great world la e buffet Cine there got amore wat\n"
     ]
    }
   ],
   "source": [
    "#data cleaning over dataset\n",
    "import re\n",
    "import pandas as pd\n",
    "df=pd.read_csv(f'C:/Users/nomesh.palakaluri.EMEA/OneDrive - Drilling Info/Documents/nlp_model/Data1.csv',encoding='latin-1')\n",
    "df1=pd.read_csv(f'C:/Users/nomesh.palakaluri.EMEA/OneDrive - Drilling Info/Documents/nlp_model/Data2.csv',encoding='latin-1')\n",
    "sen=df['Message'].values.astype(str)\n",
    "words=df1['word'].values.astype(str)\n",
    "special_characters = [',','!','#','$','%', '&','@','[',']',' '',',']','_','(',')','<','>','?',':','-','/','.']\n",
    "sample_string=[]\n",
    "def fun(sen):\n",
    "    for j in special_characters:\n",
    "        #return sen.replace(j,'')\n",
    "        return re.sub('[^A-Z a-z]+', '',sen)\n",
    "s4=[]\n",
    "for i in range(len(sen)):\n",
    "    sample_string.append(fun(sen[i]))\n",
    "    s4.append(sample_string[i].split())\n",
    "print(sample_string[0])\n",
    "    \n",
    "    # print(sample_string)\n",
    "    #re.sub('[^A-Z a-z]+ ', '',sample_string)\n",
    "    # s1.split()\n"
   ]
  },
  {
   "cell_type": "markdown",
   "metadata": {},
   "source": []
  },
  {
   "cell_type": "code",
   "execution_count": 136,
   "metadata": {},
   "outputs": [
    {
     "name": "stdout",
     "output_type": "stream",
     "text": [
      "Go\n"
     ]
    },
    {
     "data": {
      "text/plain": [
       "82808"
      ]
     },
     "execution_count": 136,
     "metadata": {},
     "output_type": "execute_result"
    }
   ],
   "source": [
    "m5=[]\n",
    "for i in range(len(sen)):\n",
    "    s=sample_string[i] \n",
    "    for j in range(len(s.split())):\n",
    "        m5.append(s.split()[j])\n",
    "print(m5[0])\n"
   ]
  },
  {
   "cell_type": "code",
   "execution_count": 23,
   "metadata": {},
   "outputs": [],
   "source": [
    "#converting the sentences into words and repeating the sentences\n",
    "import pandas as pd\n",
    "df2=pd.read_csv('C:/Users/nomesh.palakaluri.EMEA/OneDrive - Drilling Info/Documents/nlp_model/Data2.csv')\n",
    "# for i in range(len(sample_string)):\n",
    "#    print(sample_string[i])#original text\n",
    "df2['Message']=sample_string\n",
    "#df2['Message']\n",
    "dataFrame = pd.DataFrame(df2)\n",
    "dataFrame.to_csv('C:/Users/nomesh.palakaluri.EMEA/OneDrive - Drilling Info/Documents/nlp_model/Data2.csv')"
   ]
  },
  {
   "cell_type": "code",
   "execution_count": 20,
   "metadata": {},
   "outputs": [
    {
     "name": "stdout",
     "output_type": "stream",
     "text": [
      "      Unnamed: 0    id                                            Message  \\\n",
      "0              0     0  Go until jurong point crazy Available only in ...   \n",
      "0              0     0  Go until jurong point crazy Available only in ...   \n",
      "0              0     0  Go until jurong point crazy Available only in ...   \n",
      "0              0     0  Go until jurong point crazy Available only in ...   \n",
      "0              0     0  Go until jurong point crazy Available only in ...   \n",
      "...          ...   ...                                                ...   \n",
      "5571        5571  5571                          Rofl Its true to its name   \n",
      "5571        5571  5571                          Rofl Its true to its name   \n",
      "5571        5571  5571                          Rofl Its true to its name   \n",
      "5571        5571  5571                          Rofl Its true to its name   \n",
      "5571        5571  5571                          Rofl Its true to its name   \n",
      "\n",
      "        word  \n",
      "0         Go  \n",
      "0      until  \n",
      "0     jurong  \n",
      "0      point  \n",
      "0      crazy  \n",
      "...      ...  \n",
      "5571     Its  \n",
      "5571    true  \n",
      "5571      to  \n",
      "5571     its  \n",
      "5571    name  \n",
      "\n",
      "[82811 rows x 4 columns]\n"
     ]
    }
   ],
   "source": [
    "#converting the sentences into words and repeating the sentences\n",
    "import pandas as pd\n",
    "df=pd.read_csv('C:/Users/nomesh.palakaluri.EMEA/OneDrive - Drilling Info/Documents/nlp_model/Data3.csv')\n",
    "text=df['Message'].astype(str) #original text\n",
    "#text_id=df['text_id'].astype(str) #original id\n",
    "df['id']= [i for i in range(len(df))]\n",
    "df['word'] = df['Message'].str.split()\n",
    "df=df.explode(\"word\")\n",
    "print(df)\n",
    "dataFrame = pd.DataFrame(df)\n",
    "dataFrame.to_csv('C:/Users/nomesh.palakaluri.EMEA/OneDrive - Drilling Info/Documents/nlp_model/Data3.csv')"
   ]
  }
 ],
 "metadata": {
  "interpreter": {
   "hash": "8ac7df784fb9f66341270b4235b901a57e4c94a02ff00519a90c3611eb6bf397"
  },
  "kernelspec": {
   "display_name": "Python 3.10.2 64-bit",
   "language": "python",
   "name": "python3"
  },
  "language_info": {
   "codemirror_mode": {
    "name": "ipython",
    "version": 3
   },
   "file_extension": ".py",
   "mimetype": "text/x-python",
   "name": "python",
   "nbconvert_exporter": "python",
   "pygments_lexer": "ipython3",
   "version": "3.10.2"
  },
  "orig_nbformat": 4
 },
 "nbformat": 4,
 "nbformat_minor": 2
}
